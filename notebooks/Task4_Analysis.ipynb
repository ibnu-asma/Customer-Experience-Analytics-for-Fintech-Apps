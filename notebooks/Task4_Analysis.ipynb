{
 "cells": [
  {
   "cell_type": "code",
   "execution_count": 1,
   "id": "e347e2ef",
   "metadata": {},
   "outputs": [],
   "source": [
    "import pandas as pd\n",
    "import oracledb\n",
    "import matplotlib.pyplot as plt\n",
    "import seaborn as sns\n",
    "from wordcloud import WordCloud\n",
    "import numpy as np\n",
    "\n",
    "# # Set up plotting style\n",
    "# plt.style.use('seaborn')\n",
    "# %matplotlib inline"
   ]
  },
  {
   "cell_type": "code",
   "execution_count": 2,
   "id": "71344d39",
   "metadata": {},
   "outputs": [
    {
     "name": "stdout",
     "output_type": "stream",
     "text": [
      "Data loaded successfully with 1184 reviews.\n"
     ]
    },
    {
     "name": "stderr",
     "output_type": "stream",
     "text": [
      "C:\\Users\\Cyber Defense\\AppData\\Local\\Temp\\ipykernel_19800\\2298306055.py:5: UserWarning: pandas only supports SQLAlchemy connectable (engine/connection) or database string URI or sqlite3 DBAPI2 connection. Other DBAPI2 objects are not tested. Please consider using SQLAlchemy.\n",
      "  df = pd.read_sql(\"SELECT * FROM reviews\", connection)\n"
     ]
    }
   ],
   "source": [
    "dsn = oracledb.makedsn('localhost', 1521, service_name='XEPDB1')\n",
    "with oracledb.connect(user='sys', password='admin', dsn=dsn, mode=oracledb.SYSDBA) as connection:\n",
    "    cursor = connection.cursor()\n",
    "    cursor.execute(\"ALTER SESSION SET CONTAINER = bank_reviews\")\n",
    "    df = pd.read_sql(\"SELECT * FROM reviews\", connection)\n",
    "\n",
    "# Map bank_id to names\n",
    "bank_map = {1: 'Commercial Bank of Ethiopia', 2: 'Bank of Abyssinia', 3: 'Dashen Bank'}\n",
    "df['bank_name'] = df['BANK_ID'].map(bank_map)\n",
    "print(\"Data loaded successfully with\", len(df), \"reviews.\")"
   ]
  },
  {
   "cell_type": "code",
   "execution_count": 3,
   "id": "b85e82da",
   "metadata": {},
   "outputs": [
    {
     "name": "stdout",
     "output_type": "stream",
     "text": [
      "0    [('App Usability', ['app', 'App', 'application...\n",
      "1                                                   []\n",
      "2    [('App Usability', ['app', 'App', 'application...\n",
      "3    [('App Usability', ['app', 'App', 'application...\n",
      "4    [('Performance Issues', ['fast', 'slow', 'Fast...\n",
      "Name: THEMES, dtype: object\n"
     ]
    }
   ],
   "source": [
    "print(df['THEMES'].head())"
   ]
  },
  {
   "cell_type": "code",
   "execution_count": 4,
   "id": "0dcd3da5",
   "metadata": {},
   "outputs": [
    {
     "name": "stdout",
     "output_type": "stream",
     "text": [
      "Sentiment Counts:\n",
      " SENTIMENT_LABEL              NEGATIVE  NEUTRAL  POSITIVE\n",
      "bank_name                                               \n",
      "Bank of Abyssinia                 226        2       171\n",
      "Commercial Bank of Ethiopia       125        3       258\n",
      "Dashen Bank                       102        0       297\n",
      "\n",
      "Theme Frequencies Across All Banks:\n",
      " App Usability           488\n",
      "Performance Issues       98\n",
      "Transaction Problems     95\n",
      "Customer Support         59\n",
      "Login Issues             31\n",
      "dtype: int64\n",
      "\n",
      "Theme Frequencies by Bank:\n",
      " bank_name                                        \n",
      "Bank of Abyssinia            App Usability           146\n",
      "                             Customer Support         20\n",
      "                             Login Issues             17\n",
      "                             Performance Issues       16\n",
      "                             Transaction Problems     15\n",
      "Commercial Bank of Ethiopia  App Usability           135\n",
      "                             Transaction Problems     20\n",
      "                             Performance Issues       18\n",
      "                             Customer Support         11\n",
      "                             Login Issues              4\n",
      "Dashen Bank                  App Usability           207\n",
      "                             Performance Issues       64\n",
      "                             Transaction Problems     60\n",
      "                             Customer Support         28\n",
      "                             Login Issues             10\n",
      "dtype: int64\n"
     ]
    }
   ],
   "source": [
    "sentiment_counts = df.groupby(['bank_name', 'SENTIMENT_LABEL']).size().unstack(fill_value=0)\n",
    "print(\"Sentiment Counts:\\n\", sentiment_counts)\n",
    "\n",
    "# Extract theme counts\n",
    "def extract_theme_counts(df):\n",
    "    theme_counts = {}\n",
    "    for index, row in df.iterrows():\n",
    "        themes = eval(row['THEMES'])  # Convert string to list of tuples\n",
    "        for theme, _ in set((t, k[0]) for t, k in themes):  # Use set to count unique themes per row\n",
    "            theme_counts[theme] = theme_counts.get(theme, 0) + 1\n",
    "    return pd.Series(theme_counts).sort_values(ascending=False)\n",
    "\n",
    "all_themes = extract_theme_counts(df)\n",
    "bank_themes = df.groupby('bank_name').apply(extract_theme_counts, include_groups=False)\n",
    "print(\"\\nTheme Frequencies Across All Banks:\\n\", all_themes)\n",
    "print(\"\\nTheme Frequencies by Bank:\\n\", bank_themes)"
   ]
  },
  {
   "cell_type": "code",
   "execution_count": 5,
   "id": "6b1dbf49",
   "metadata": {},
   "outputs": [],
   "source": [
    "# Sentiment Trends\n",
    "plt.figure(figsize=(10, 6))\n",
    "sns.countplot(data=df, x='REVIEW_DATE', hue='SENTIMENT_LABEL')\n",
    "plt.title('Sentiment Trends Over Time')\n",
    "plt.xticks(rotation=45)\n",
    "plt.savefig('../data/visualizations/sentiment_trends.png')\n",
    "plt.close()\n",
    "\n",
    "# Rating Distributions\n",
    "plt.figure(figsize=(10, 6))\n",
    "sns.boxplot(data=df, x='bank_name', y='RATING')\n",
    "plt.title('Rating Distributions by Bank')\n",
    "plt.savefig('../data/visualizations/rating_distributions.png')\n",
    "plt.close()\n",
    "\n",
    "# Keyword Cloud\n",
    "all_keywords = ' '.join(df['KEYWORDS'].apply(lambda x: ' '.join(eval(x)) if x else ''))\n",
    "wordcloud = WordCloud(width=800, height=400, background_color='white').generate(all_keywords)\n",
    "plt.figure(figsize=(10, 5))\n",
    "plt.imshow(wordcloud, interpolation='bilinear')\n",
    "plt.title('Keyword Cloud')\n",
    "plt.axis('off')\n",
    "plt.savefig('../data/visualizations/keyword_cloud.png')\n",
    "plt.close()\n",
    "\n",
    "\n"
   ]
  },
  {
   "cell_type": "code",
   "execution_count": 7,
   "id": "93542abd",
   "metadata": {},
   "outputs": [
    {
     "data": {
      "image/png": "[encoded data removed]",
      "text/plain": [
       "<Figure size 1000x600 with 1 Axes>"
      ]
     },
     "metadata": {},
     "output_type": "display_data"
    }
   ],
   "source": [
    "keywords = df['KEYWORDS'].apply(lambda x: eval(x) if x else [])\n",
    "all_keywords = [kw for sublist in keywords for kw in sublist]\n",
    "keyword_counts = pd.Series(all_keywords).value_counts().head(10)\n",
    "plt.figure(figsize=(10, 6))\n",
    "keyword_counts.plot(kind='bar')\n",
    "plt.title('Top 10 Most Frequent Keywords')\n",
    "plt.xlabel('Keyword')\n",
    "plt.ylabel('Frequency')\n",
    "plt.tight_layout()\n",
    "plt.savefig('../data/visualizations/top_keywords.png')"
   ]
  },
  {
   "cell_type": "code",
   "execution_count": null,
   "id": "f48ab5d3",
   "metadata": {
    "vscode": {
     "languageId": "latex"
    }
   },
   "outputs": [
    {
     "name": "stdout",
     "output_type": "stream",
     "text": [
      "Report generated as reports/task4_report.pdf\n"
     ]
    },
    {
     "name": "stderr",
     "output_type": "stream",
     "text": [
      "'latexmk' is not recognized as an internal or external command,\n",
      "operable program or batch file.\n"
     ]
    }
   ],
   "source": [
    "report_latex = r\"\"\"\n",
    "\\documentclass[a4paper,12pt]{article}\n",
    "\\usepackage[utf8]{inputenc}\n",
    "\\usepackage{geometry}\n",
    "\\geometry{a4paper, margin=1in}\n",
    "\\usepackage{graphicx}\n",
    "\\usepackage{booktabs}\n",
    "\n",
    "\\title{Task 4: Insights and Recommendations for Fintech Reviews}\n",
    "\\author{}\n",
    "\\date{June 11, 2025}\n",
    "\n",
    "\\begin{document}\n",
    "\n",
    "\\maketitle\n",
    "\n",
    "\\section{Insights}\n",
    "\\subsection{Drivers and Pain Points}\n",
    "\\begin{itemize}\n",
    "  \\item \\textbf{Commercial Bank of Ethiopia}: Driver - \"App Usability\" (135 reviews, e.g., \"proactive\", \"good\"); Pain Point - \"Transaction Problems\" (20 reviews, e.g., \"not functional\", \"send\").\n",
    "  \\item \\textbf{Bank of Abyssinia}: Driver - \"App Usability\" (146 reviews, e.g., \"app\", \"UI\"); Pain Point - \"Login Issues\" (17 reviews, e.g., \"error\", \"sign\").\n",
    "  \\item \\textbf{Dashen Bank}: Driver - \"App Usability\" (207 reviews, e.g., \"intuitive\", \"superapp\"); Pain Point - \"Transaction Problems\" (60 reviews, e.g., \"slow\").\n",
    "  \\item \\textbf{Comparison}: Abyssinia has the highest negative sentiment (226), Dashen the highest positive (297).\n",
    "\\end{itemize}\n",
    "\n",
    "\\subsection{Recommendations}\n",
    "\\begin{itemize}\n",
    "  \\item Add a budgeting tool to enhance \"App Usability\" across all banks.\n",
    "  \\item Implement transaction recovery for CBE and Dashen.\n",
    "  \\item Address \"Login Issues\" with crash recovery for Abyssinia.\n",
    "  \\item Optimize performance for Dashen to reduce \"Transaction Problems.\"\n",
    "\\end{itemize}\n",
    "\n",
    "\\section{Visualizations}\n",
    "\\begin{figure}[h]\n",
    "  \\centering\n",
    "  \\includegraphics[width=0.8\\textwidth]{visuals/sentiment_trends_monthly.png}\n",
    "  \\caption{Sentiment Trends Over Time (Monthly)}\n",
    "\\end{figure}\n",
    "\\begin{figure}[h]\n",
    "  \\centering\n",
    "  \\includegraphics[width=0.8\\textwidth]{visuals/rating_distributions.png}\n",
    "  \\caption{Rating Distributions by Bank}\n",
    "\\end{figure}\n",
    "\\begin{figure}[h]\n",
    "  \\centering\n",
    "  \\includegraphics[width=0.8\\textwidth]{visuals/keyword_cloud.png}\n",
    "  \\caption{Keyword Cloud}\n",
    "\\end{figure}\n",
    "\n",
    "\\section{Ethical Considerations}\n",
    "Negative feedback may dominate due to dissatisfied users, potentially skewing theme analysis.\n",
    "\n",
    "\\section{Conclusion}\n",
    "The analysis identifies key drivers and pain points, supported by visualizations, with ethical biases noted.\n",
    "\n",
    "\\end{document}\n",
    "\"\"\"\n",
    "\n",
    "import os\n",
    "os.makedirs('reports', exist_ok=True)\n",
    "with open('reports/task4_report.tex', 'w') as f:\n",
    "    f.write(report_latex)\n",
    "!latexmk -pdf reports/task4_report.tex\n",
    "print(\"Report generated as reports/task4_report.pdf\")"
   ]
  },
  {
   "cell_type": "code",
   "execution_count": null,
   "id": "977f8036",
   "metadata": {
    "vscode": {
     "languageId": "latex"
    }
   },
   "outputs": [],
   "source": []
  }
 ],
 "metadata": {
  "kernelspec": {
   "display_name": "venv",
   "language": "python",
   "name": "python3"
  },
  "language_info": {
   "codemirror_mode": {
    "name": "ipython",
    "version": 3
   },
   "file_extension": ".py",
   "mimetype": "text/x-python",
   "name": "python",
   "nbconvert_exporter": "python",
   "pygments_lexer": "ipython3",
   "version": "3.12.8"
  }
 },
 "nbformat": 4,
 "nbformat_minor": 5
}

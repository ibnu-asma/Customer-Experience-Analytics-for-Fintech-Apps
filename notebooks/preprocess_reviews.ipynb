{
 "cells": [
  {
   "cell_type": "markdown",
   "id": "9181b405",
   "metadata": {},
   "source": [
    "# Preprocessing Reviews for Mobile Banking Analysis\n",
    "\n",
    "This notebook performs Exploratory Data Analysis (EDA) and preprocessing on raw review data scraped from the Google Play Store for Commercial Bank of Ethiopia (CBE), Bank of Abyssinia (BOA), and Dashen Bank. The goal is to clean the data by removing duplicates, handling missing values, and normalizing dates, while documenting the initial state of the dataset.\n",
    "\n",
    "**Steps:**\n",
    "1. Load raw data from `raw_reviews.csv`.\n",
    "2. Perform EDA to understand the dataset.\n",
    "3. Remove duplicates.\n",
    "4. Handle missing data.\n",
    "5. Verify and normalize dates.\n",
    "6. Save the cleaned data to `cleaned_reviews.csv`.\n",
    "\n",
    "**KPI:** Ensure 1,200+ reviews with <5% missing data."
   ]
  },
  {
   "cell_type": "code",
   "execution_count": 2,
   "id": "d3b8e67a",
   "metadata": {},
   "outputs": [],
   "source": [
    "# Import required libraries\n",
    "import pandas as pd"
   ]
  },
  {
   "cell_type": "code",
   "execution_count": 3,
   "id": "2a5e2f4e",
   "metadata": {},
   "outputs": [
    {
     "name": "stdout",
     "output_type": "stream",
     "text": [
      "Raw data loaded successfully.\n"
     ]
    }
   ],
   "source": [
    "# Load raw data\n",
    "df = pd.read_csv(\"../Data/raw_reviews.csv\")\n",
    "print(\"Raw data loaded successfully.\")"
   ]
  },
  {
   "cell_type": "markdown",
   "id": "102bcaea",
   "metadata": {},
   "source": [
    "## Exploratory Data Analysis (EDA)\n",
    "\n",
    "Let's analyze the raw dataset to understand its structure, missing values, and basic statistics before preprocessing."
   ]
  },
  {
   "cell_type": "code",
   "execution_count": 4,
   "id": "26f5dd1a",
   "metadata": {},
   "outputs": [
    {
     "name": "stdout",
     "output_type": "stream",
     "text": [
      "=== Exploratory Data Analysis of Raw Data ===\n",
      "\n",
      "1. Dataset Shape (Rows, Columns): (1200, 5)\n"
     ]
    }
   ],
   "source": [
    "# EDA: Dataset Shape\n",
    "print(\"=== Exploratory Data Analysis of Raw Data ===\")\n",
    "print(\"\\n1. Dataset Shape (Rows, Columns):\", df.shape)"
   ]
  },
  {
   "cell_type": "code",
   "execution_count": 5,
   "id": "cfcdb261",
   "metadata": {},
   "outputs": [
    {
     "name": "stdout",
     "output_type": "stream",
     "text": [
      "\n",
      "2. Column Names and Data Types:\n",
      "review    object\n",
      "rating     int64\n",
      "date      object\n",
      "bank      object\n",
      "source    object\n",
      "dtype: object\n"
     ]
    }
   ],
   "source": [
    "# EDA: Column Names and Data Types\n",
    "print(\"\\n2. Column Names and Data Types:\")\n",
    "print(df.dtypes)"
   ]
  },
  {
   "cell_type": "code",
   "execution_count": 6,
   "id": "155c3e66",
   "metadata": {},
   "outputs": [
    {
     "name": "stdout",
     "output_type": "stream",
     "text": [
      "\n",
      "3. Missing Value Counts per Column:\n",
      "review    0\n",
      "rating    0\n",
      "date      0\n",
      "bank      0\n",
      "source    0\n",
      "dtype: int64\n"
     ]
    }
   ],
   "source": [
    "# EDA: Missing Value Counts\n",
    "print(\"\\n3. Missing Value Counts per Column:\")\n",
    "print(df.isnull().sum())"
   ]
  },
  {
   "cell_type": "code",
   "execution_count": 7,
   "id": "568a6763",
   "metadata": {},
   "outputs": [
    {
     "name": "stdout",
     "output_type": "stream",
     "text": [
      "\n",
      "4. Basic Summary Statistics:\n",
      "       review       rating        date                         bank  \\\n",
      "count    1200  1200.000000        1200                         1200   \n",
      "unique   1180          NaN         479                            3   \n",
      "top      good          NaN  2025-04-21  Commercial Bank of Ethiopia   \n",
      "freq        7          NaN         105                          400   \n",
      "mean      NaN     3.118333         NaN                          NaN   \n",
      "std       NaN     1.765955         NaN                          NaN   \n",
      "min       NaN     1.000000         NaN                          NaN   \n",
      "25%       NaN     1.000000         NaN                          NaN   \n",
      "50%       NaN     3.000000         NaN                          NaN   \n",
      "75%       NaN     5.000000         NaN                          NaN   \n",
      "max       NaN     5.000000         NaN                          NaN   \n",
      "\n",
      "             source  \n",
      "count          1200  \n",
      "unique            1  \n",
      "top     Google Play  \n",
      "freq           1200  \n",
      "mean            NaN  \n",
      "std             NaN  \n",
      "min             NaN  \n",
      "25%             NaN  \n",
      "50%             NaN  \n",
      "75%             NaN  \n",
      "max             NaN  \n"
     ]
    }
   ],
   "source": [
    "# EDA: Basic Summary Statistics\n",
    "print(\"\\n4. Basic Summary Statistics:\")\n",
    "print(df.describe(include='all'))  # Include all columns (numeric and object)"
   ]
  },
  {
   "cell_type": "code",
   "execution_count": 8,
   "id": "10eae5a3",
   "metadata": {},
   "outputs": [
    {
     "name": "stdout",
     "output_type": "stream",
     "text": [
      "\n",
      "5. Sample of the Data (First 5 Rows):\n",
      "                                              review  rating        date  \\\n",
      "0  The CBE app has been highly unreliable in rece...       2  2025-05-25   \n",
      "1  this new update(Mar 19,2025) is great in fixin...       4  2025-03-20   \n",
      "2  Good job to the CBE team on this mobile app! I...       5  2025-04-04   \n",
      "3  this app has developed in a very good ways but...       5  2025-05-31   \n",
      "4  everytime you uninstall the app you have to re...       1  2025-06-04   \n",
      "\n",
      "                          bank       source  \n",
      "0  Commercial Bank of Ethiopia  Google Play  \n",
      "1  Commercial Bank of Ethiopia  Google Play  \n",
      "2  Commercial Bank of Ethiopia  Google Play  \n",
      "3  Commercial Bank of Ethiopia  Google Play  \n",
      "4  Commercial Bank of Ethiopia  Google Play  \n"
     ]
    }
   ],
   "source": [
    "# EDA: Sample of the Data\n",
    "print(\"\\n5. Sample of the Data (First 5 Rows):\")\n",
    "print(df.head())"
   ]
  },
  {
   "cell_type": "code",
   "execution_count": 9,
   "id": "c7cd0c47",
   "metadata": {},
   "outputs": [
    {
     "name": "stdout",
     "output_type": "stream",
     "text": [
      "\n",
      "Removed duplicates. New shape: (1180, 5)\n"
     ]
    }
   ],
   "source": [
    "# Remove duplicates\n",
    "df = df.drop_duplicates(subset=[\"review\"], keep=\"first\")\n",
    "print(f\"\\nRemoved duplicates. New shape: {df.shape}\")"
   ]
  },
  {
   "cell_type": "code",
   "execution_count": 10,
   "id": "b0744081",
   "metadata": {},
   "outputs": [
    {
     "name": "stdout",
     "output_type": "stream",
     "text": [
      "Dropped rows with missing key fields. New shape: (1180, 5)\n",
      "Filled missing reviews with 'No review' and ratings with mean. Missing values remaining:\n",
      "review    0\n",
      "rating    0\n",
      "date      0\n",
      "bank      0\n",
      "source    0\n",
      "dtype: int64\n"
     ]
    }
   ],
   "source": [
    "# Handle missing data\n",
    "df = df.dropna(subset=[\"review\", \"rating\", \"date\"])  # Drop rows with missing key fields\n",
    "print(f\"Dropped rows with missing key fields. New shape: {df.shape}\")\n",
    "\n",
    "df[\"review\"] = df[\"review\"].fillna(\"No review\")  # Fill missing reviews with placeholder\n",
    "df[\"rating\"] = df[\"rating\"].fillna(df[\"rating\"].mean())  # Fill missing ratings with mean\n",
    "print(f\"Filled missing reviews with 'No review' and ratings with mean. Missing values remaining:\")\n",
    "print(df.isnull().sum())"
   ]
  },
  {
   "cell_type": "code",
   "execution_count": 11,
   "id": "ccaed485",
   "metadata": {},
   "outputs": [
    {
     "name": "stdout",
     "output_type": "stream",
     "text": [
      "\n",
      "Date format verified. Invalid dates coerced to NaT: 0\n"
     ]
    }
   ],
   "source": [
    "# Verify date format\n",
    "df[\"date\"] = pd.to_datetime(df[\"date\"], format=\"%Y-%m-%d\", errors=\"coerce\")\n",
    "print(f\"\\nDate format verified. Invalid dates coerced to NaT: {df['date'].isnull().sum()}\")"
   ]
  },
  {
   "cell_type": "code",
   "execution_count": 12,
   "id": "e3e5dd45",
   "metadata": {},
   "outputs": [
    {
     "name": "stdout",
     "output_type": "stream",
     "text": [
      "\n",
      "Processed 1180 reviews with <5% missing data.\n"
     ]
    }
   ],
   "source": [
    "# Save cleaned data\n",
    "df.to_csv(\"../Data/cleaned_reviews.csv\", index=False)\n",
    "print(f\"\\nProcessed {len(df)} reviews with <5% missing data.\")"
   ]
  },
  {
   "cell_type": "markdown",
   "id": "9f6ba43c",
   "metadata": {},
   "source": [
    "## Final Notes\n",
    "\n",
    "- Verify that the number of reviews meets the 1,200+ target.\n",
    "- Check the missing data percentage (<5%) using the EDA output.\n",
    "- Commit this notebook and the cleaned CSV to your Git repository."
   ]
  },
  {
   "cell_type": "code",
   "execution_count": null,
   "id": "d7e786d5",
   "metadata": {},
   "outputs": [
    {
     "data": {
      "text/plain": [
       "<bound method Series.all of 0       Commercial Bank of Ethiopia\n",
       "1       Commercial Bank of Ethiopia\n",
       "2       Commercial Bank of Ethiopia\n",
       "3       Commercial Bank of Ethiopia\n",
       "4       Commercial Bank of Ethiopia\n",
       "                   ...             \n",
       "1194                    Dashen Bank\n",
       "1195                    Dashen Bank\n",
       "1196                    Dashen Bank\n",
       "1197                    Dashen Bank\n",
       "1198                    Dashen Bank\n",
       "Name: bank, Length: 1180, dtype: object>"
      ]
     },
     "execution_count": 18,
     "metadata": {},
     "output_type": "execute_result"
    }
   ],
   "source": [
    " # Ensure no bank column exists"
   ]
  }
 ],
 "metadata": {
  "kernelspec": {
   "display_name": "venv",
   "language": "python",
   "name": "python3"
  },
  "language_info": {
   "codemirror_mode": {
    "name": "ipython",
    "version": 3
   },
   "file_extension": ".py",
   "mimetype": "text/x-python",
   "name": "python",
   "nbconvert_exporter": "python",
   "pygments_lexer": "ipython3",
   "version": "3.13.1"
  }
 },
 "nbformat": 4,
 "nbformat_minor": 5
}

{
 "cells": [
  {
   "cell_type": "markdown",
   "id": "8e8e9b79",
   "metadata": {},
   "source": [
    "# explore_sentiment.py: Python script extracted from notebooks/explore_sentiment.ipynb\n",
    "# Purpose: Test sentiment analysis and keyword extraction for Task 2\n"
   ]
  },
  {
   "cell_type": "code",
   "execution_count": 1,
   "id": "ff6ff802",
   "metadata": {},
   "outputs": [
    {
     "ename": "ModuleNotFoundError",
     "evalue": "No module named 'spacy'",
     "output_type": "error",
     "traceback": [
      "\u001b[31m---------------------------------------------------------------------------\u001b[39m",
      "\u001b[31mModuleNotFoundError\u001b[39m                       Traceback (most recent call last)",
      "\u001b[36mCell\u001b[39m\u001b[36m \u001b[39m\u001b[32mIn[1]\u001b[39m\u001b[32m, line 2\u001b[39m\n\u001b[32m      1\u001b[39m \u001b[38;5;28;01mimport\u001b[39;00m\u001b[38;5;250m \u001b[39m\u001b[34;01mpandas\u001b[39;00m\u001b[38;5;250m \u001b[39m\u001b[38;5;28;01mas\u001b[39;00m\u001b[38;5;250m \u001b[39m\u001b[34;01mpd\u001b[39;00m\n\u001b[32m----> \u001b[39m\u001b[32m2\u001b[39m \u001b[38;5;28;01mimport\u001b[39;00m\u001b[38;5;250m \u001b[39m\u001b[34;01mspacy\u001b[39;00m\n\u001b[32m      3\u001b[39m \u001b[38;5;28;01mfrom\u001b[39;00m\u001b[38;5;250m \u001b[39m\u001b[34;01mtransformers\u001b[39;00m\u001b[38;5;250m \u001b[39m\u001b[38;5;28;01mimport\u001b[39;00m pipeline\n\u001b[32m      4\u001b[39m \u001b[38;5;28;01mfrom\u001b[39;00m\u001b[38;5;250m \u001b[39m\u001b[34;01mcollections\u001b[39;00m\u001b[38;5;250m \u001b[39m\u001b[38;5;28;01mimport\u001b[39;00m Counter\n",
      "\u001b[31mModuleNotFoundError\u001b[39m: No module named 'spacy'"
     ]
    }
   ],
   "source": [
    "import pandas as pd\n",
    "import spacy\n",
    "from transformers import pipeline\n",
    "from collections import Counter"
   ]
  },
  {
   "cell_type": "markdown",
   "id": "5e856bc0",
   "metadata": {},
   "source": [
    "# Load cleaned reviews"
   ]
  },
  {
   "cell_type": "code",
   "execution_count": null,
   "id": "5822005d",
   "metadata": {},
   "outputs": [],
   "source": [
    "df = pd.read_csv('data/processed/reviews_clean.csv')\n",
    "print(df.shape)\n",
    "print(df.head())"
   ]
  },
  {
   "cell_type": "markdown",
   "id": "5dd24ffc",
   "metadata": {},
   "source": [
    "# Initialize DistilBERT sentiment pipeline"
   ]
  },
  {
   "cell_type": "code",
   "execution_count": null,
   "id": "17fa4743",
   "metadata": {},
   "outputs": [],
   "source": [
    "sentiment_analyzer = pipeline('sentiment-analysis', \n",
    "model='distilbert-base-uncased-finetuned-sst-2-english')"
   ]
  },
  {
   "cell_type": "markdown",
   "id": "ff6cf775",
   "metadata": {},
   "source": [
    "\n",
    "# Sample 50 reviews"
   ]
  },
  {
   "cell_type": "code",
   "execution_count": null,
   "id": "e5cd02e1",
   "metadata": {},
   "outputs": [],
   "source": [
    "sample_df = df.sample(50, random_state=42)"
   ]
  },
  {
   "cell_type": "markdown",
   "id": "e8f7c012",
   "metadata": {},
   "source": [
    "# Apply sentiment analysis"
   ]
  },
  {
   "cell_type": "code",
   "execution_count": null,
   "id": "d3bcd6f9",
   "metadata": {},
   "outputs": [],
   "source": [
    "def get_sentiment(text):\n",
    "    result = sentiment_analyzer(text[:512])[0]  # Truncate to 512 tokens\n",
    "    return result['label'], result['score']\n",
    "\n",
    "sample_df['sentiment'] = sample_df['review'].apply(lambda x: get_sentiment(x)[0])\n",
    "sample_df['sentiment_score'] = sample_df['review'].apply(lambda x: get_sentiment(x)[1])\n",
    "print(sample_df[['review', 'sentiment', 'sentiment_score']].head())    "
   ]
  },
  {
   "cell_type": "markdown",
   "id": "ed71dad8",
   "metadata": {},
   "source": [
    "# Aggregate by bank and rating"
   ]
  },
  {
   "cell_type": "code",
   "execution_count": null,
   "id": "3130ad6e",
   "metadata": {},
   "outputs": [],
   "source": [
    "sentiment_by_bank = sample_df.groupby(['bank', 'rating'])['sentiment_score'].mean().unstack()\n",
    "print(sentiment_by_bank)"
   ]
  },
  {
   "cell_type": "markdown",
   "id": "03cf187a",
   "metadata": {},
   "source": [
    "\n",
    "# Load spaCy model"
   ]
  },
  {
   "cell_type": "code",
   "execution_count": null,
   "id": "ff413208",
   "metadata": {},
   "outputs": [],
   "source": [
    "nlp = spacy.load('en_core_web_sm')"
   ]
  },
  {
   "cell_type": "markdown",
   "id": "1ced9507",
   "metadata": {},
   "source": [
    "\n",
    "# Function to extract keywords"
   ]
  },
  {
   "cell_type": "code",
   "execution_count": null,
   "id": "6af11d47",
   "metadata": {},
   "outputs": [],
   "source": [
    "def extract_keywords(text):\n",
    "    doc = nlp(text.lower())\n",
    "    keywords = [token.text for token in doc if token.pos_ in ['NOUN', 'PROPN'] or token.dep_ == 'compound']\n",
    "    return keywords"
   ]
  },
  {
   "cell_type": "markdown",
   "id": "516c588a",
   "metadata": {},
   "source": [
    "# Apply to sample"
   ]
  },
  {
   "cell_type": "code",
   "execution_count": null,
   "id": "51f77133",
   "metadata": {},
   "outputs": [],
   "source": [
    "sample_df['keywords'] = sample_df['review'].apply(extract_keywords)\n",
    "print(sample_df[['review', 'keywords']].head())"
   ]
  },
  {
   "cell_type": "markdown",
   "id": "9fdbe497",
   "metadata": {},
   "source": [
    "# Group keywords by bank"
   ]
  },
  {
   "cell_type": "code",
   "execution_count": null,
   "id": "83dfa404",
   "metadata": {},
   "outputs": [],
   "source": [
    "keywords_by_bank = sample_df.groupby('bank')['keywords'].apply(lambda x: Counter([kw for sublist in x for kw in sublist]))\n",
    "for bank, counter in keywords_by_bank.items():\n",
    "    print(f\"{bank}: {counter.most_common(10)}\")"
   ]
  },
  {
   "cell_type": "markdown",
   "id": "b95747c2",
   "metadata": {},
   "source": [
    "\n",
    "# Example manual theme clustering"
   ]
  },
  {
   "cell_type": "code",
   "execution_count": null,
   "id": "4cf27fb6",
   "metadata": {},
   "outputs": [],
   "source": [
    "themes = {\n",
    "    'Account Access Issues': ['login', 'password', 'authentication'],\n",
    "    'Transaction Performance': ['transfer', 'payment', 'slow'],\n",
    "    'User Interface': ['ui', 'design', 'navigation']\n",
    "}\n",
    "print('Sample Themes:', themes)"
   ]
  }
 ],
 "metadata": {
  "kernelspec": {
   "display_name": "venv",
   "language": "python",
   "name": "python3"
  },
  "language_info": {
   "codemirror_mode": {
    "name": "ipython",
    "version": 3
   },
   "file_extension": ".py",
   "mimetype": "text/x-python",
   "name": "python",
   "nbconvert_exporter": "python",
   "pygments_lexer": "ipython3",
   "version": "3.12.8"
  }
 },
 "nbformat": 4,
 "nbformat_minor": 5
}

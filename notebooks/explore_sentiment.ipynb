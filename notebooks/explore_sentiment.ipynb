{
 "cells": [
  {
   "cell_type": "markdown",
   "id": "8e8e9b79",
   "metadata": {},
   "source": [
    "# explore_sentiment.py: Python script extracted from notebooks/explore_sentiment.ipynb\n",
    "# Purpose: Test sentiment analysis and keyword extraction for Task 2\n"
   ]
  },
  {
   "cell_type": "code",
   "execution_count": 1,
   "id": "ff6ff802",
   "metadata": {},
   "outputs": [
    {
     "name": "stderr",
     "output_type": "stream",
     "text": [
      "c:\\Users\\Cyber Defense\\Desktop\\week2\\fintech-reviews-analytics\\venv\\Lib\\site-packages\\tqdm\\auto.py:21: TqdmWarning: IProgress not found. Please update jupyter and ipywidgets. See https://ipywidgets.readthedocs.io/en/stable/user_install.html\n",
      "  from .autonotebook import tqdm as notebook_tqdm\n"
     ]
    }
   ],
   "source": [
    "import pandas as pd\n",
    "import spacy\n",
    "from transformers import pipeline\n",
    "from collections import Counter"
   ]
  },
  {
   "cell_type": "markdown",
   "id": "5e856bc0",
   "metadata": {},
   "source": [
    "# Load cleaned reviews"
   ]
  },
  {
   "cell_type": "code",
   "execution_count": 2,
   "id": "5822005d",
   "metadata": {},
   "outputs": [
    {
     "name": "stdout",
     "output_type": "stream",
     "text": [
      "(1184, 13)\n",
      "                                              review  rating        date  \\\n",
      "0  \"Why don’t your ATMs support account-to-accoun...       4  2025-06-05   \n",
      "1                        what is this app problem???       1  2025-06-05   \n",
      "2       the app is proactive and a good connections.       5  2025-06-05   \n",
      "3    I cannot send to cbebirr app. through this app.       3  2025-06-05   \n",
      "4                                               good       4  2025-06-05   \n",
      "\n",
      "                          bank       source  \\\n",
      "0  Commercial Bank of Ethiopia  Google Play   \n",
      "1  Commercial Bank of Ethiopia  Google Play   \n",
      "2  Commercial Bank of Ethiopia  Google Play   \n",
      "3  Commercial Bank of Ethiopia  Google Play   \n",
      "4  Commercial Bank of Ethiopia  Google Play   \n",
      "\n",
      "                        cleaned_review  char_count  word_count  \\\n",
      "0  support transfer like country south        35.0         5.0   \n",
      "1                              problem         7.0         1.0   \n",
      "2                      good connection        15.0         2.0   \n",
      "3                                 send         4.0         1.0   \n",
      "4                                 good         4.0         1.0   \n",
      "\n",
      "   avg_word_length  has_question  has_exclamation  is_all_caps  \\\n",
      "0              6.2           0.0              0.0          0.0   \n",
      "1              7.0           0.0              0.0          0.0   \n",
      "2              7.0           0.0              0.0          0.0   \n",
      "3              4.0           0.0              0.0          0.0   \n",
      "4              4.0           0.0              0.0          0.0   \n",
      "\n",
      "   sentiment_polarity  \n",
      "0                 0.0  \n",
      "1                 0.0  \n",
      "2                 0.0  \n",
      "3                 0.0  \n",
      "4                 0.0  \n"
     ]
    }
   ],
   "source": [
    "df = pd.read_csv('../data/processed/reviews_clean.csv')\n",
    "print(df.shape)\n",
    "print(df.head())"
   ]
  },
  {
   "cell_type": "markdown",
   "id": "5dd24ffc",
   "metadata": {},
   "source": [
    "# Initialize DistilBERT sentiment pipeline"
   ]
  },
  {
   "cell_type": "code",
   "execution_count": 3,
   "id": "17fa4743",
   "metadata": {},
   "outputs": [
    {
     "name": "stderr",
     "output_type": "stream",
     "text": [
      "Device set to use cpu\n"
     ]
    }
   ],
   "source": [
    "sentiment_analyzer = pipeline('sentiment-analysis', \n",
    "model='distilbert-base-uncased-finetuned-sst-2-english')"
   ]
  },
  {
   "cell_type": "markdown",
   "id": "ff6cf775",
   "metadata": {},
   "source": [
    "\n",
    "# Sample 50 reviews"
   ]
  },
  {
   "cell_type": "code",
   "execution_count": 4,
   "id": "e5cd02e1",
   "metadata": {},
   "outputs": [],
   "source": [
    "sample_df = df.sample(1000, random_state=42)"
   ]
  },
  {
   "cell_type": "markdown",
   "id": "e8f7c012",
   "metadata": {},
   "source": [
    "# Apply sentiment analysis"
   ]
  },
  {
   "cell_type": "code",
   "execution_count": 5,
   "id": "d3bcd6f9",
   "metadata": {},
   "outputs": [
    {
     "name": "stdout",
     "output_type": "stream",
     "text": [
      "                                                 review sentiment  \\\n",
      "319                                                  ok  POSITIVE   \n",
      "956   All-in-one finance & e-commerce super app! Pay...  POSITIVE   \n",
      "1094                                  Wow Excellent app  POSITIVE   \n",
      "86                                    I hate this app 😒  NEGATIVE   \n",
      "990                   it is the most amazing mobile app  POSITIVE   \n",
      "\n",
      "      sentiment_score  \n",
      "319          0.999785  \n",
      "956          0.994359  \n",
      "1094         0.999844  \n",
      "86           0.999638  \n",
      "990          0.999872  \n"
     ]
    }
   ],
   "source": [
    "def get_sentiment(text):\n",
    "    result = sentiment_analyzer(text[:512])[0]  # Truncate to 512 tokens\n",
    "    return result['label'], result['score']\n",
    "\n",
    "sample_df['sentiment'] = sample_df['review'].apply(lambda x: get_sentiment(x)[0])\n",
    "sample_df['sentiment_score'] = sample_df['review'].apply(lambda x: get_sentiment(x)[1])\n",
    "print(sample_df[['review', 'sentiment', 'sentiment_score']].head())    "
   ]
  },
  {
   "cell_type": "markdown",
   "id": "ed71dad8",
   "metadata": {},
   "source": [
    "# Aggregate by bank and rating"
   ]
  },
  {
   "cell_type": "code",
   "execution_count": 6,
   "id": "3130ad6e",
   "metadata": {},
   "outputs": [
    {
     "name": "stdout",
     "output_type": "stream",
     "text": [
      "rating                              1         2         3         4         5\n",
      "bank                                                                         \n",
      "Bank of Abyssinia            0.979258  0.950136  0.960817  0.952379  0.959533\n",
      "Commercial Bank of Ethiopia  0.971017  0.978796  0.974088  0.958783  0.977350\n",
      "Dashen Bank                  0.993916  0.947908  0.997680  0.973680  0.983484\n"
     ]
    }
   ],
   "source": [
    "sentiment_by_bank = sample_df.groupby(['bank', 'rating'])['sentiment_score'].mean().unstack()\n",
    "print(sentiment_by_bank)"
   ]
  },
  {
   "cell_type": "markdown",
   "id": "03cf187a",
   "metadata": {},
   "source": [
    "\n",
    "# Load spaCy model"
   ]
  },
  {
   "cell_type": "code",
   "execution_count": 7,
   "id": "ff413208",
   "metadata": {},
   "outputs": [],
   "source": [
    "nlp = spacy.load('en_core_web_sm')"
   ]
  },
  {
   "cell_type": "markdown",
   "id": "1ced9507",
   "metadata": {},
   "source": [
    "\n",
    "# Function to extract keywords"
   ]
  },
  {
   "cell_type": "code",
   "execution_count": 8,
   "id": "6af11d47",
   "metadata": {},
   "outputs": [],
   "source": [
    "def extract_keywords(text):\n",
    "    doc = nlp(text.lower())\n",
    "    keywords = [token.text for token in doc if token.pos_ in ['NOUN', 'PROPN'] or token.dep_ == 'compound']\n",
    "    return keywords"
   ]
  },
  {
   "cell_type": "markdown",
   "id": "516c588a",
   "metadata": {},
   "source": [
    "# Apply to sample"
   ]
  },
  {
   "cell_type": "code",
   "execution_count": 9,
   "id": "51f77133",
   "metadata": {},
   "outputs": [
    {
     "name": "stdout",
     "output_type": "stream",
     "text": [
      "                                                 review  \\\n",
      "319                                                  ok   \n",
      "956   All-in-one finance & e-commerce super app! Pay...   \n",
      "1094                                  Wow Excellent app   \n",
      "86                                    I hate this app 😒   \n",
      "990                   it is the most amazing mobile app   \n",
      "\n",
      "                                    keywords  \n",
      "319                                       []  \n",
      "956   [finance, e, -, app, pay, bankandshop]  \n",
      "1094                                   [app]  \n",
      "86                                  [app, 😒]  \n",
      "990                                    [app]  \n"
     ]
    }
   ],
   "source": [
    "sample_df['keywords'] = sample_df['review'].apply(extract_keywords)\n",
    "print(sample_df[['review', 'keywords']].head())"
   ]
  },
  {
   "cell_type": "markdown",
   "id": "9fdbe497",
   "metadata": {},
   "source": [
    "# Group keywords by bank"
   ]
  },
  {
   "cell_type": "code",
   "execution_count": 10,
   "id": "83dfa404",
   "metadata": {},
   "outputs": [
    {
     "ename": "AttributeError",
     "evalue": "'float' object has no attribute 'most_common'",
     "output_type": "error",
     "traceback": [
      "\u001b[31m---------------------------------------------------------------------------\u001b[39m",
      "\u001b[31mAttributeError\u001b[39m                            Traceback (most recent call last)",
      "\u001b[36mCell\u001b[39m\u001b[36m \u001b[39m\u001b[32mIn[10]\u001b[39m\u001b[32m, line 3\u001b[39m\n\u001b[32m      1\u001b[39m keywords_by_bank = sample_df.groupby(\u001b[33m'\u001b[39m\u001b[33mbank\u001b[39m\u001b[33m'\u001b[39m)[\u001b[33m'\u001b[39m\u001b[33mkeywords\u001b[39m\u001b[33m'\u001b[39m].apply(\u001b[38;5;28;01mlambda\u001b[39;00m x: Counter([kw \u001b[38;5;28;01mfor\u001b[39;00m sublist \u001b[38;5;129;01min\u001b[39;00m x \u001b[38;5;28;01mfor\u001b[39;00m kw \u001b[38;5;129;01min\u001b[39;00m sublist]))\n\u001b[32m      2\u001b[39m \u001b[38;5;28;01mfor\u001b[39;00m bank, counter \u001b[38;5;129;01min\u001b[39;00m keywords_by_bank.items():\n\u001b[32m----> \u001b[39m\u001b[32m3\u001b[39m     \u001b[38;5;28mprint\u001b[39m(\u001b[33mf\u001b[39m\u001b[33m\"\u001b[39m\u001b[38;5;132;01m{\u001b[39;00mbank\u001b[38;5;132;01m}\u001b[39;00m\u001b[33m: \u001b[39m\u001b[38;5;132;01m{\u001b[39;00m\u001b[43mcounter\u001b[49m\u001b[43m.\u001b[49m\u001b[43mmost_common\u001b[49m(\u001b[32m10\u001b[39m)\u001b[38;5;132;01m}\u001b[39;00m\u001b[33m\"\u001b[39m)\n",
      "\u001b[31mAttributeError\u001b[39m: 'float' object has no attribute 'most_common'"
     ]
    }
   ],
   "source": [
    "keywords_by_bank = sample_df.groupby('bank')['keywords'].apply(lambda x: Counter([kw for sublist in x for kw in sublist]))\n",
    "for bank, counter in keywords_by_bank.items():\n",
    "    print(f\"{bank}: {counter.most_common(10)}\")"
   ]
  },
  {
   "cell_type": "markdown",
   "id": "b95747c2",
   "metadata": {},
   "source": [
    "\n",
    "# Example manual theme clustering"
   ]
  },
  {
   "cell_type": "code",
   "execution_count": 11,
   "id": "4cf27fb6",
   "metadata": {},
   "outputs": [
    {
     "name": "stdout",
     "output_type": "stream",
     "text": [
      "Sample Themes: {'Account Access Issues': ['login', 'password', 'authentication'], 'Transaction Performance': ['transfer', 'payment', 'slow'], 'User Interface': ['ui', 'design', 'navigation']}\n"
     ]
    }
   ],
   "source": [
    "themes = {\n",
    "    'Account Access Issues': ['login', 'password', 'authentication'],\n",
    "    'Transaction Performance': ['transfer', 'payment', 'slow'],\n",
    "    'User Interface': ['ui', 'design', 'navigation']\n",
    "}\n",
    "print('Sample Themes:', themes)"
   ]
  },
  {
   "cell_type": "code",
   "execution_count": null,
   "id": "9ca41d1c",
   "metadata": {},
   "outputs": [
    {
     "name": "stderr",
     "output_type": "stream",
     "text": [
      "C:\\Users\\Cyber Defense\\AppData\\Local\\Temp\\ipykernel_20912\\3640742976.py:12: UserWarning: pandas only supports SQLAlchemy connectable (engine/connection) or database string URI or sqlite3 DBAPI2 connection. Other DBAPI2 objects are not tested. Please consider using SQLAlchemy.\n",
      "  df = pd.read_sql(\"SELECT REVIEW_ID, BANK_ID, REVIEW_TEXT, RATING, REVIEW_DATE, SOURCE, SENTIMENT_LABEL, SENTIMENT_SCORE, KEYWORDS, THEMES FROM reviews\", connection)\n",
      "C:\\Users\\Cyber Defense\\AppData\\Local\\Temp\\ipykernel_20912\\3640742976.py:50: FutureWarning: 'M' is deprecated and will be removed in a future version, please use 'ME' instead.\n",
      "  df_grouped = df.groupby([pd.Grouper(key='REVIEW_DATE', freq='M'), 'bank_name'])['RATING'].mean().reset_index()\n"
     ]
    }
   ],
   "source": [
    "import pandas as pd\n",
    "import oracledb\n",
    "import matplotlib.pyplot as plt\n",
    "import seaborn as sns\n",
    "import numpy as np\n",
    "\n",
    "# Load data (assuming Cell 2 code is reused)\n",
    "dsn = oracledb.makedsn('localhost', 1521, service_name='XEPDB1')\n",
    "with oracledb.connect(user='sys', password='admin', dsn=dsn, mode=oracledb.SYSDBA) as connection:\n",
    "    cursor = connection.cursor()\n",
    "    cursor.execute(\"ALTER SESSION SET CONTAINER = bank_reviews\")\n",
    "    df = pd.read_sql(\"SELECT REVIEW_ID, BANK_ID, REVIEW_TEXT, RATING, REVIEW_DATE, SOURCE, SENTIMENT_LABEL, SENTIMENT_SCORE, KEYWORDS, THEMES FROM reviews\", connection)\n",
    "\n",
    "bank_map = {1: 'Commercial Bank of Ethiopia', 2: 'Bank of Abyssinia', 3: 'Dashen Bank'}\n",
    "df['bank_name'] = df['BANK_ID'].map(lambda x: bank_map.get(x) if pd.notnull(x) else None)\n",
    "df['REVIEW_DATE'] = pd.to_datetime(df['REVIEW_DATE'])\n",
    "\n",
    "# Figure 2: Sentiment Counts by Bank\n",
    "sentiment_counts = df.groupby(['bank_name', 'SENTIMENT_LABEL']).size().unstack(fill_value=0)\n",
    "plt.figure(figsize=(10, 6))\n",
    "sentiment_counts.plot(kind='bar')\n",
    "plt.title('Sentiment Counts by Bank')\n",
    "plt.xlabel('Bank Name')\n",
    "plt.ylabel('Count')\n",
    "plt.legend(title='Sentiment Label')\n",
    "plt.tight_layout()\n",
    "plt.savefig('../data/visualizations/sentiment_counts.png')\n",
    "plt.close()\n",
    "\n",
    "# Figure 3: Theme Frequencies Across All Banks\n",
    "def extract_theme_counts(df):\n",
    "    theme_counts = {}\n",
    "    for index, row in df.iterrows():\n",
    "        themes = eval(row['THEMES']) if row['THEMES'] else []\n",
    "        for theme, _ in themes:\n",
    "            theme_counts[theme] = theme_counts.get(theme, 0) + 1\n",
    "    return pd.Series(theme_counts)\n",
    "\n",
    "all_themes = extract_theme_counts(df)\n",
    "plt.figure(figsize=(10, 6))\n",
    "all_themes.plot(kind='bar', stacked=True)\n",
    "plt.title('Theme Frequencies Across All Banks')\n",
    "plt.xlabel('Theme')\n",
    "plt.ylabel('Count')\n",
    "plt.tight_layout()\n",
    "plt.savefig('../data/visualizations/theme_frequencies.png')\n",
    "plt.close()\n",
    "\n",
    "# Figure 6: Average Rating Trends by Bank\n",
    "df_grouped = df.groupby([pd.Grouper(key='REVIEW_DATE', freq='M'), 'bank_name'])['RATING'].mean().reset_index()\n",
    "plt.figure(figsize=(10, 6))\n",
    "sns.lineplot(data=df_grouped, x='REVIEW_DATE', y='RATING', hue='bank_name', marker='o')\n",
    "plt.title('Average Rating Trends by Bank')\n",
    "plt.xlabel('Date')\n",
    "plt.ylabel('Average Rating')\n",
    "plt.xticks(rotation=45)\n",
    "plt.tight_layout()\n",
    "plt.savefig('../data/visualizations/rating_trends.png')\n",
    "plt.close()\n",
    "\n",
    "# Figure 7: Keyword Correlation Heatmap\n",
    "keywords = df['KEYWORDS'].apply(lambda x: eval(x) if x else [])\n",
    "all_keywords = [kw for sublist in keywords for kw in sublist]\n",
    "keyword_correlations = pd.get_dummies(pd.Series(all_keywords)).corr()\n",
    "plt.figure(figsize=(10, 6))\n",
    "sns.heatmap(keyword_correlations, annot=True, cmap='coolwarm', vmin=-1, vmax=1)\n",
    "plt.title('Keyword Correlation Heatmap')\n",
    "plt.tight_layout()\n",
    "plt.savefig('../data/visualizations/keyword_correlation.png')\n",
    "plt.close()"
   ]
  }
 ],
 "metadata": {
  "kernelspec": {
   "display_name": "venv",
   "language": "python",
   "name": "python3"
  },
  "language_info": {
   "codemirror_mode": {
    "name": "ipython",
    "version": 3
   },
   "file_extension": ".py",
   "mimetype": "text/x-python",
   "name": "python",
   "nbconvert_exporter": "python",
   "pygments_lexer": "ipython3",
   "version": "3.12.8"
  }
 },
 "nbformat": 4,
 "nbformat_minor": 5
}

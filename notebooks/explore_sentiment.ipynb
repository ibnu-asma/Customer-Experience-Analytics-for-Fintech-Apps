{
 "cells": [
  {
   "cell_type": "markdown",
   "id": "8e8e9b79",
   "metadata": {},
   "source": [
    "# explore_sentiment.py: Python script extracted from notebooks/explore_sentiment.ipynb\n",
    "# Purpose: Test sentiment analysis and keyword extraction for Task 2\n"
   ]
  },
  {
   "cell_type": "code",
   "execution_count": 1,
   "id": "ff6ff802",
   "metadata": {},
   "outputs": [
    {
     "name": "stderr",
     "output_type": "stream",
     "text": [
      "c:\\Users\\Cyber Defense\\Desktop\\week2\\fintech-reviews-analytics\\venv\\Lib\\site-packages\\tqdm\\auto.py:21: TqdmWarning: IProgress not found. Please update jupyter and ipywidgets. See https://ipywidgets.readthedocs.io/en/stable/user_install.html\n",
      "  from .autonotebook import tqdm as notebook_tqdm\n"
     ]
    }
   ],
   "source": [
    "import pandas as pd\n",
    "import spacy\n",
    "from transformers import pipeline\n",
    "from collections import Counter"
   ]
  },
  {
   "cell_type": "markdown",
   "id": "5e856bc0",
   "metadata": {},
   "source": [
    "# Load cleaned reviews"
   ]
  },
  {
   "cell_type": "code",
   "execution_count": 3,
   "id": "5822005d",
   "metadata": {},
   "outputs": [
    {
     "name": "stdout",
     "output_type": "stream",
     "text": [
      "(1184, 13)\n",
      "                                              review  rating        date  \\\n",
      "0  \"Why don’t your ATMs support account-to-accoun...       4  2025-06-05   \n",
      "1                        what is this app problem???       1  2025-06-05   \n",
      "2       the app is proactive and a good connections.       5  2025-06-05   \n",
      "3    I cannot send to cbebirr app. through this app.       3  2025-06-05   \n",
      "4                                               good       4  2025-06-05   \n",
      "\n",
      "                          bank       source  \\\n",
      "0  Commercial Bank of Ethiopia  Google Play   \n",
      "1  Commercial Bank of Ethiopia  Google Play   \n",
      "2  Commercial Bank of Ethiopia  Google Play   \n",
      "3  Commercial Bank of Ethiopia  Google Play   \n",
      "4  Commercial Bank of Ethiopia  Google Play   \n",
      "\n",
      "                        cleaned_review  char_count  word_count  \\\n",
      "0  support transfer like country south        35.0         5.0   \n",
      "1                              problem         7.0         1.0   \n",
      "2                      good connection        15.0         2.0   \n",
      "3                                 send         4.0         1.0   \n",
      "4                                 good         4.0         1.0   \n",
      "\n",
      "   avg_word_length  has_question  has_exclamation  is_all_caps  \\\n",
      "0              6.2           0.0              0.0          0.0   \n",
      "1              7.0           0.0              0.0          0.0   \n",
      "2              7.0           0.0              0.0          0.0   \n",
      "3              4.0           0.0              0.0          0.0   \n",
      "4              4.0           0.0              0.0          0.0   \n",
      "\n",
      "   sentiment_polarity  \n",
      "0                 0.0  \n",
      "1                 0.0  \n",
      "2                 0.0  \n",
      "3                 0.0  \n",
      "4                 0.0  \n"
     ]
    }
   ],
   "source": [
    "df = pd.read_csv('../data/processed/reviews_clean.csv')\n",
    "print(df.shape)\n",
    "print(df.head())"
   ]
  },
  {
   "cell_type": "markdown",
   "id": "5dd24ffc",
   "metadata": {},
   "source": [
    "# Initialize DistilBERT sentiment pipeline"
   ]
  },
  {
   "cell_type": "code",
   "execution_count": 4,
   "id": "17fa4743",
   "metadata": {},
   "outputs": [
    {
     "name": "stderr",
     "output_type": "stream",
     "text": [
      "Device set to use cpu\n"
     ]
    }
   ],
   "source": [
    "sentiment_analyzer = pipeline('sentiment-analysis', \n",
    "model='distilbert-base-uncased-finetuned-sst-2-english')"
   ]
  },
  {
   "cell_type": "markdown",
   "id": "ff6cf775",
   "metadata": {},
   "source": [
    "\n",
    "# Sample 50 reviews"
   ]
  },
  {
   "cell_type": "code",
   "execution_count": 6,
   "id": "e5cd02e1",
   "metadata": {},
   "outputs": [],
   "source": [
    "sample_df = df.sample(1000, random_state=42)"
   ]
  },
  {
   "cell_type": "markdown",
   "id": "e8f7c012",
   "metadata": {},
   "source": [
    "# Apply sentiment analysis"
   ]
  },
  {
   "cell_type": "code",
   "execution_count": 7,
   "id": "d3bcd6f9",
   "metadata": {},
   "outputs": [
    {
     "name": "stdout",
     "output_type": "stream",
     "text": [
      "                                                 review sentiment  \\\n",
      "319                                                  ok  POSITIVE   \n",
      "956   All-in-one finance & e-commerce super app! Pay...  POSITIVE   \n",
      "1094                                  Wow Excellent app  POSITIVE   \n",
      "86                                    I hate this app 😒  NEGATIVE   \n",
      "990                   it is the most amazing mobile app  POSITIVE   \n",
      "\n",
      "      sentiment_score  \n",
      "319          0.999785  \n",
      "956          0.994359  \n",
      "1094         0.999844  \n",
      "86           0.999638  \n",
      "990          0.999872  \n"
     ]
    }
   ],
   "source": [
    "def get_sentiment(text):\n",
    "    result = sentiment_analyzer(text[:512])[0]  # Truncate to 512 tokens\n",
    "    return result['label'], result['score']\n",
    "\n",
    "sample_df['sentiment'] = sample_df['review'].apply(lambda x: get_sentiment(x)[0])\n",
    "sample_df['sentiment_score'] = sample_df['review'].apply(lambda x: get_sentiment(x)[1])\n",
    "print(sample_df[['review', 'sentiment', 'sentiment_score']].head())    "
   ]
  },
  {
   "cell_type": "markdown",
   "id": "ed71dad8",
   "metadata": {},
   "source": [
    "# Aggregate by bank and rating"
   ]
  },
  {
   "cell_type": "code",
   "execution_count": 8,
   "id": "3130ad6e",
   "metadata": {},
   "outputs": [
    {
     "name": "stdout",
     "output_type": "stream",
     "text": [
      "rating                              1         2         3         4         5\n",
      "bank                                                                         \n",
      "Bank of Abyssinia            0.979258  0.950136  0.960817  0.952379  0.959533\n",
      "Commercial Bank of Ethiopia  0.971017  0.978796  0.974088  0.958783  0.977350\n",
      "Dashen Bank                  0.993916  0.947908  0.997680  0.973680  0.983484\n"
     ]
    }
   ],
   "source": [
    "sentiment_by_bank = sample_df.groupby(['bank', 'rating'])['sentiment_score'].mean().unstack()\n",
    "print(sentiment_by_bank)"
   ]
  },
  {
   "cell_type": "markdown",
   "id": "03cf187a",
   "metadata": {},
   "source": [
    "\n",
    "# Load spaCy model"
   ]
  },
  {
   "cell_type": "code",
   "execution_count": 9,
   "id": "ff413208",
   "metadata": {},
   "outputs": [],
   "source": [
    "nlp = spacy.load('en_core_web_sm')"
   ]
  },
  {
   "cell_type": "markdown",
   "id": "1ced9507",
   "metadata": {},
   "source": [
    "\n",
    "# Function to extract keywords"
   ]
  },
  {
   "cell_type": "code",
   "execution_count": 10,
   "id": "6af11d47",
   "metadata": {},
   "outputs": [],
   "source": [
    "def extract_keywords(text):\n",
    "    doc = nlp(text.lower())\n",
    "    keywords = [token.text for token in doc if token.pos_ in ['NOUN', 'PROPN'] or token.dep_ == 'compound']\n",
    "    return keywords"
   ]
  },
  {
   "cell_type": "markdown",
   "id": "516c588a",
   "metadata": {},
   "source": [
    "# Apply to sample"
   ]
  },
  {
   "cell_type": "code",
   "execution_count": 11,
   "id": "51f77133",
   "metadata": {},
   "outputs": [
    {
     "name": "stdout",
     "output_type": "stream",
     "text": [
      "                                                 review  \\\n",
      "319                                                  ok   \n",
      "956   All-in-one finance & e-commerce super app! Pay...   \n",
      "1094                                  Wow Excellent app   \n",
      "86                                    I hate this app 😒   \n",
      "990                   it is the most amazing mobile app   \n",
      "\n",
      "                                    keywords  \n",
      "319                                       []  \n",
      "956   [finance, e, -, app, pay, bankandshop]  \n",
      "1094                                   [app]  \n",
      "86                                  [app, 😒]  \n",
      "990                                    [app]  \n"
     ]
    }
   ],
   "source": [
    "sample_df['keywords'] = sample_df['review'].apply(extract_keywords)\n",
    "print(sample_df[['review', 'keywords']].head())"
   ]
  },
  {
   "cell_type": "markdown",
   "id": "9fdbe497",
   "metadata": {},
   "source": [
    "# Group keywords by bank"
   ]
  },
  {
   "cell_type": "code",
   "execution_count": null,
   "id": "83dfa404",
   "metadata": {},
   "outputs": [],
   "source": [
    "keywords_by_bank = sample_df.groupby('bank')['keywords'].apply(lambda x: Counter([kw for sublist in x for kw in sublist]))\n",
    "for bank, counter in keywords_by_bank.items():\n",
    "    print(f\"{bank}: {counter.most_common(10)}\")"
   ]
  },
  {
   "cell_type": "markdown",
   "id": "b95747c2",
   "metadata": {},
   "source": [
    "\n",
    "# Example manual theme clustering"
   ]
  },
  {
   "cell_type": "code",
   "execution_count": 13,
   "id": "4cf27fb6",
   "metadata": {},
   "outputs": [
    {
     "name": "stdout",
     "output_type": "stream",
     "text": [
      "Sample Themes: {'Account Access Issues': ['login', 'password', 'authentication'], 'Transaction Performance': ['transfer', 'payment', 'slow'], 'User Interface': ['ui', 'design', 'navigation']}\n"
     ]
    }
   ],
   "source": [
    "themes = {\n",
    "    'Account Access Issues': ['login', 'password', 'authentication'],\n",
    "    'Transaction Performance': ['transfer', 'payment', 'slow'],\n",
    "    'User Interface': ['ui', 'design', 'navigation']\n",
    "}\n",
    "print('Sample Themes:', themes)"
   ]
  }
 ],
 "metadata": {
  "kernelspec": {
   "display_name": "venv",
   "language": "python",
   "name": "python3"
  },
  "language_info": {
   "codemirror_mode": {
    "name": "ipython",
    "version": 3
   },
   "file_extension": ".py",
   "mimetype": "text/x-python",
   "name": "python",
   "nbconvert_exporter": "python",
   "pygments_lexer": "ipython3",
   "version": "3.12.8"
  }
 },
 "nbformat": 4,
 "nbformat_minor": 5
}
